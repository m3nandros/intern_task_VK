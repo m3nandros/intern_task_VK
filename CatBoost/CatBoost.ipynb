{
 "cells": [
  {
   "metadata": {},
   "cell_type": "markdown",
   "source": "# СatBoost",
   "id": "296ff3676eee8102"
  },
  {
   "metadata": {
    "ExecuteTime": {
     "end_time": "2024-04-29T19:17:03.540345Z",
     "start_time": "2024-04-29T19:16:08.227790Z"
    }
   },
   "cell_type": "code",
   "source": [
    "import numpy as np\n",
    "import catboost\n",
    "from xgboost import plot_importance\n",
    "from sklearn.metrics import confusion_matrix, ConfusionMatrixDisplay\n",
    "%cd ../data_loader/src\n",
    "from data_loader import DataLoader\n",
    "\n",
    "data_loader = DataLoader()\n",
    "df = data_loader.load_data()\n",
    "%cd ../../data_preprocessing/src\n",
    "from data_preprocessing import DataPreprocessor\n",
    "\n",
    "data_prep = DataPreprocessor()\n",
    "y, data, X_train, X_test, y_train, y_test, X_train_rus, X_test_rus, y_train_rus, y_test_rus = data_prep.preprocess_data(\n",
    "    df)"
   ],
   "id": "a26e48506547ab87",
   "outputs": [
    {
     "name": "stdout",
     "output_type": "stream",
     "text": [
      "/Users/socratis/PycharmProjects/intern_task_VK/data_loader/src\n",
      "/Users/socratis/PycharmProjects/intern_task_VK/data_preprocessing/src\n"
     ]
    }
   ],
   "execution_count": 1
  },
  {
   "metadata": {},
   "cell_type": "markdown",
   "source": "# CatBoost без сбалансирования",
   "id": "e358b2fbce57893b"
  },
  {
   "metadata": {
    "ExecuteTime": {
     "end_time": "2024-04-29T19:17:21.300701Z",
     "start_time": "2024-04-29T19:17:03.587265Z"
    }
   },
   "cell_type": "code",
   "source": [
    "CB_no_balance = catboost.CatBoostRegressor(iterations=100, learning_rate=0.1, depth=6, loss_function='RMSE')\n",
    "CB_no_balance.fit(X_train, y_train)"
   ],
   "id": "de8fc0a107b5fb00",
   "outputs": [
    {
     "name": "stdout",
     "output_type": "stream",
     "text": [
      "0:\tlearn: 0.7441857\ttotal: 280ms\tremaining: 27.7s\n",
      "1:\tlearn: 0.7386321\ttotal: 439ms\tremaining: 21.5s\n",
      "2:\tlearn: 0.7338913\ttotal: 682ms\tremaining: 22.1s\n",
      "3:\tlearn: 0.7296809\ttotal: 862ms\tremaining: 20.7s\n",
      "4:\tlearn: 0.7262116\ttotal: 1.07s\tremaining: 20.4s\n",
      "5:\tlearn: 0.7231316\ttotal: 1.17s\tremaining: 18.3s\n",
      "6:\tlearn: 0.7205287\ttotal: 1.46s\tremaining: 19.4s\n",
      "7:\tlearn: 0.7182921\ttotal: 1.59s\tremaining: 18.3s\n",
      "8:\tlearn: 0.7163212\ttotal: 1.76s\tremaining: 17.8s\n",
      "9:\tlearn: 0.7146441\ttotal: 1.87s\tremaining: 16.9s\n",
      "10:\tlearn: 0.7129074\ttotal: 1.98s\tremaining: 16s\n",
      "11:\tlearn: 0.7114333\ttotal: 2.08s\tremaining: 15.3s\n",
      "12:\tlearn: 0.7101821\ttotal: 2.27s\tremaining: 15.2s\n",
      "13:\tlearn: 0.7091907\ttotal: 2.42s\tremaining: 14.8s\n",
      "14:\tlearn: 0.7080891\ttotal: 2.54s\tremaining: 14.4s\n",
      "15:\tlearn: 0.7070810\ttotal: 2.67s\tremaining: 14s\n",
      "16:\tlearn: 0.7061803\ttotal: 2.83s\tremaining: 13.8s\n",
      "17:\tlearn: 0.7053505\ttotal: 2.96s\tremaining: 13.5s\n",
      "18:\tlearn: 0.7044926\ttotal: 3.12s\tremaining: 13.3s\n",
      "19:\tlearn: 0.7037106\ttotal: 3.25s\tremaining: 13s\n",
      "20:\tlearn: 0.7030654\ttotal: 3.48s\tremaining: 13.1s\n",
      "21:\tlearn: 0.7024261\ttotal: 3.63s\tremaining: 12.9s\n",
      "22:\tlearn: 0.7018658\ttotal: 3.94s\tremaining: 13.2s\n",
      "23:\tlearn: 0.7013781\ttotal: 4.04s\tremaining: 12.8s\n",
      "24:\tlearn: 0.7008604\ttotal: 4.13s\tremaining: 12.4s\n",
      "25:\tlearn: 0.7004455\ttotal: 4.25s\tremaining: 12.1s\n",
      "26:\tlearn: 0.7000502\ttotal: 4.36s\tremaining: 11.8s\n",
      "27:\tlearn: 0.6996030\ttotal: 4.43s\tremaining: 11.4s\n",
      "28:\tlearn: 0.6992476\ttotal: 4.88s\tremaining: 11.9s\n",
      "29:\tlearn: 0.6989093\ttotal: 5.08s\tremaining: 11.9s\n",
      "30:\tlearn: 0.6984679\ttotal: 5.25s\tremaining: 11.7s\n",
      "31:\tlearn: 0.6980398\ttotal: 5.39s\tremaining: 11.5s\n",
      "32:\tlearn: 0.6976689\ttotal: 5.58s\tremaining: 11.3s\n",
      "33:\tlearn: 0.6974437\ttotal: 5.71s\tremaining: 11.1s\n",
      "34:\tlearn: 0.6970860\ttotal: 5.84s\tremaining: 10.9s\n",
      "35:\tlearn: 0.6968034\ttotal: 5.96s\tremaining: 10.6s\n",
      "36:\tlearn: 0.6965479\ttotal: 6.07s\tremaining: 10.3s\n",
      "37:\tlearn: 0.6962596\ttotal: 6.17s\tremaining: 10.1s\n",
      "38:\tlearn: 0.6960715\ttotal: 6.28s\tremaining: 9.83s\n",
      "39:\tlearn: 0.6958317\ttotal: 6.39s\tremaining: 9.58s\n",
      "40:\tlearn: 0.6955549\ttotal: 6.48s\tremaining: 9.33s\n",
      "41:\tlearn: 0.6953072\ttotal: 6.63s\tremaining: 9.16s\n",
      "42:\tlearn: 0.6950139\ttotal: 6.78s\tremaining: 8.99s\n",
      "43:\tlearn: 0.6947636\ttotal: 6.88s\tremaining: 8.76s\n",
      "44:\tlearn: 0.6945958\ttotal: 6.98s\tremaining: 8.54s\n",
      "45:\tlearn: 0.6943568\ttotal: 7.1s\tremaining: 8.34s\n",
      "46:\tlearn: 0.6941402\ttotal: 7.19s\tremaining: 8.11s\n",
      "47:\tlearn: 0.6939351\ttotal: 7.3s\tremaining: 7.91s\n",
      "48:\tlearn: 0.6938075\ttotal: 7.41s\tremaining: 7.71s\n",
      "49:\tlearn: 0.6935984\ttotal: 7.55s\tremaining: 7.55s\n",
      "50:\tlearn: 0.6934286\ttotal: 7.63s\tremaining: 7.33s\n",
      "51:\tlearn: 0.6932144\ttotal: 7.78s\tremaining: 7.18s\n",
      "52:\tlearn: 0.6930430\ttotal: 7.95s\tremaining: 7.05s\n",
      "53:\tlearn: 0.6928138\ttotal: 8.08s\tremaining: 6.88s\n",
      "54:\tlearn: 0.6926847\ttotal: 8.27s\tremaining: 6.77s\n",
      "55:\tlearn: 0.6925463\ttotal: 8.42s\tremaining: 6.62s\n",
      "56:\tlearn: 0.6924015\ttotal: 8.57s\tremaining: 6.46s\n",
      "57:\tlearn: 0.6922642\ttotal: 8.74s\tremaining: 6.33s\n",
      "58:\tlearn: 0.6921004\ttotal: 8.93s\tremaining: 6.2s\n",
      "59:\tlearn: 0.6919951\ttotal: 9.05s\tremaining: 6.03s\n",
      "60:\tlearn: 0.6917959\ttotal: 9.24s\tremaining: 5.91s\n",
      "61:\tlearn: 0.6915964\ttotal: 9.42s\tremaining: 5.77s\n",
      "62:\tlearn: 0.6914103\ttotal: 9.57s\tremaining: 5.62s\n",
      "63:\tlearn: 0.6912324\ttotal: 9.82s\tremaining: 5.53s\n",
      "64:\tlearn: 0.6910424\ttotal: 9.93s\tremaining: 5.35s\n",
      "65:\tlearn: 0.6909326\ttotal: 10.1s\tremaining: 5.2s\n",
      "66:\tlearn: 0.6907959\ttotal: 10.2s\tremaining: 5.04s\n",
      "67:\tlearn: 0.6906440\ttotal: 10.3s\tremaining: 4.86s\n",
      "68:\tlearn: 0.6904122\ttotal: 10.5s\tremaining: 4.74s\n",
      "69:\tlearn: 0.6902043\ttotal: 10.7s\tremaining: 4.59s\n",
      "70:\tlearn: 0.6900762\ttotal: 10.8s\tremaining: 4.43s\n",
      "71:\tlearn: 0.6899417\ttotal: 11s\tremaining: 4.26s\n",
      "72:\tlearn: 0.6898395\ttotal: 11.1s\tremaining: 4.09s\n",
      "73:\tlearn: 0.6897280\ttotal: 11.2s\tremaining: 3.94s\n",
      "74:\tlearn: 0.6895702\ttotal: 11.5s\tremaining: 3.82s\n",
      "75:\tlearn: 0.6894563\ttotal: 11.9s\tremaining: 3.75s\n",
      "76:\tlearn: 0.6893317\ttotal: 12.1s\tremaining: 3.62s\n",
      "77:\tlearn: 0.6892073\ttotal: 12.3s\tremaining: 3.46s\n",
      "78:\tlearn: 0.6890840\ttotal: 12.4s\tremaining: 3.31s\n",
      "79:\tlearn: 0.6889487\ttotal: 12.6s\tremaining: 3.16s\n",
      "80:\tlearn: 0.6888268\ttotal: 12.9s\tremaining: 3.02s\n",
      "81:\tlearn: 0.6886688\ttotal: 13.1s\tremaining: 2.87s\n",
      "82:\tlearn: 0.6885347\ttotal: 13.2s\tremaining: 2.7s\n",
      "83:\tlearn: 0.6884179\ttotal: 13.3s\tremaining: 2.53s\n",
      "84:\tlearn: 0.6882924\ttotal: 13.6s\tremaining: 2.41s\n",
      "85:\tlearn: 0.6881770\ttotal: 13.8s\tremaining: 2.24s\n",
      "86:\tlearn: 0.6880274\ttotal: 14s\tremaining: 2.08s\n",
      "87:\tlearn: 0.6878613\ttotal: 14.1s\tremaining: 1.93s\n",
      "88:\tlearn: 0.6877166\ttotal: 14.4s\tremaining: 1.78s\n",
      "89:\tlearn: 0.6876243\ttotal: 14.8s\tremaining: 1.64s\n",
      "90:\tlearn: 0.6875281\ttotal: 14.9s\tremaining: 1.47s\n",
      "91:\tlearn: 0.6873931\ttotal: 15s\tremaining: 1.3s\n",
      "92:\tlearn: 0.6873203\ttotal: 15.1s\tremaining: 1.14s\n",
      "93:\tlearn: 0.6872066\ttotal: 15.3s\tremaining: 974ms\n",
      "94:\tlearn: 0.6870551\ttotal: 15.4s\tremaining: 812ms\n",
      "95:\tlearn: 0.6868797\ttotal: 15.5s\tremaining: 648ms\n",
      "96:\tlearn: 0.6867221\ttotal: 15.6s\tremaining: 483ms\n",
      "97:\tlearn: 0.6866271\ttotal: 15.8s\tremaining: 322ms\n",
      "98:\tlearn: 0.6865615\ttotal: 15.9s\tremaining: 161ms\n",
      "99:\tlearn: 0.6865144\ttotal: 16s\tremaining: 0us\n"
     ]
    },
    {
     "data": {
      "text/plain": [
       "<catboost.core.CatBoostRegressor at 0x11d5b78f0>"
      ]
     },
     "execution_count": 2,
     "metadata": {},
     "output_type": "execute_result"
    }
   ],
   "execution_count": 2
  },
  {
   "metadata": {
    "ExecuteTime": {
     "end_time": "2024-04-29T19:17:21.392766Z",
     "start_time": "2024-04-29T19:17:21.303376Z"
    }
   },
   "cell_type": "code",
   "source": [
    "y_pred_no_balance = CB_no_balance.predict(X_test)\n",
    "y_pred_no_balance"
   ],
   "id": "95a757d6d1bc148b",
   "outputs": [
    {
     "data": {
      "text/plain": [
       "array([0.53944714, 0.60619607, 0.4391448 , ..., 1.28972769, 1.04234232,\n",
       "       0.55452305])"
      ]
     },
     "execution_count": 3,
     "metadata": {},
     "output_type": "execute_result"
    }
   ],
   "execution_count": 3
  },
  {
   "metadata": {},
   "cell_type": "markdown",
   "source": "# CatBoost с Undersampling",
   "id": "863ecfec9ff71d11"
  },
  {
   "metadata": {
    "ExecuteTime": {
     "end_time": "2024-04-29T19:17:25.903627Z",
     "start_time": "2024-04-29T19:17:21.403147Z"
    }
   },
   "cell_type": "code",
   "source": [
    "CB_rus = catboost.CatBoostRegressor(iterations=100, learning_rate=0.1, depth=6, loss_function='RMSE')\n",
    "CB_rus.fit(X_train_rus, y_train_rus)"
   ],
   "id": "4e610afdd658fd09",
   "outputs": [
    {
     "name": "stdout",
     "output_type": "stream",
     "text": [
      "0:\tlearn: 1.1061111\ttotal: 38.2ms\tremaining: 3.79s\n",
      "1:\tlearn: 1.0962323\ttotal: 68.1ms\tremaining: 3.34s\n",
      "2:\tlearn: 1.0870623\ttotal: 98.7ms\tremaining: 3.19s\n",
      "3:\tlearn: 1.0789385\ttotal: 124ms\tremaining: 2.98s\n",
      "4:\tlearn: 1.0717359\ttotal: 156ms\tremaining: 2.97s\n",
      "5:\tlearn: 1.0646771\ttotal: 179ms\tremaining: 2.81s\n",
      "6:\tlearn: 1.0590782\ttotal: 228ms\tremaining: 3.02s\n",
      "7:\tlearn: 1.0546955\ttotal: 265ms\tremaining: 3.05s\n",
      "8:\tlearn: 1.0493856\ttotal: 299ms\tremaining: 3.02s\n",
      "9:\tlearn: 1.0455203\ttotal: 316ms\tremaining: 2.85s\n",
      "10:\tlearn: 1.0412481\ttotal: 353ms\tremaining: 2.85s\n",
      "11:\tlearn: 1.0371241\ttotal: 377ms\tremaining: 2.77s\n",
      "12:\tlearn: 1.0335489\ttotal: 420ms\tremaining: 2.81s\n",
      "13:\tlearn: 1.0307385\ttotal: 506ms\tremaining: 3.11s\n",
      "14:\tlearn: 1.0266319\ttotal: 544ms\tremaining: 3.08s\n",
      "15:\tlearn: 1.0239040\ttotal: 579ms\tremaining: 3.04s\n",
      "16:\tlearn: 1.0212287\ttotal: 622ms\tremaining: 3.04s\n",
      "17:\tlearn: 1.0186518\ttotal: 659ms\tremaining: 3s\n",
      "18:\tlearn: 1.0161488\ttotal: 701ms\tremaining: 2.99s\n",
      "19:\tlearn: 1.0142843\ttotal: 745ms\tremaining: 2.98s\n",
      "20:\tlearn: 1.0122084\ttotal: 767ms\tremaining: 2.89s\n",
      "21:\tlearn: 1.0097914\ttotal: 803ms\tremaining: 2.85s\n",
      "22:\tlearn: 1.0070656\ttotal: 827ms\tremaining: 2.77s\n",
      "23:\tlearn: 1.0052661\ttotal: 849ms\tremaining: 2.69s\n",
      "24:\tlearn: 1.0037245\ttotal: 869ms\tremaining: 2.61s\n",
      "25:\tlearn: 1.0023431\ttotal: 899ms\tremaining: 2.56s\n",
      "26:\tlearn: 1.0010753\ttotal: 914ms\tremaining: 2.47s\n",
      "27:\tlearn: 0.9996963\ttotal: 931ms\tremaining: 2.39s\n",
      "28:\tlearn: 0.9976439\ttotal: 953ms\tremaining: 2.33s\n",
      "29:\tlearn: 0.9961645\ttotal: 980ms\tremaining: 2.29s\n",
      "30:\tlearn: 0.9949890\ttotal: 1.01s\tremaining: 2.24s\n",
      "31:\tlearn: 0.9936234\ttotal: 1.05s\tremaining: 2.22s\n",
      "32:\tlearn: 0.9915159\ttotal: 1.08s\tremaining: 2.19s\n",
      "33:\tlearn: 0.9902938\ttotal: 1.1s\tremaining: 2.14s\n",
      "34:\tlearn: 0.9894460\ttotal: 1.13s\tremaining: 2.1s\n",
      "35:\tlearn: 0.9882742\ttotal: 1.29s\tremaining: 2.3s\n",
      "36:\tlearn: 0.9872429\ttotal: 1.36s\tremaining: 2.31s\n",
      "37:\tlearn: 0.9864407\ttotal: 1.4s\tremaining: 2.28s\n",
      "38:\tlearn: 0.9853208\ttotal: 1.46s\tremaining: 2.28s\n",
      "39:\tlearn: 0.9840073\ttotal: 1.64s\tremaining: 2.46s\n",
      "40:\tlearn: 0.9823187\ttotal: 1.72s\tremaining: 2.47s\n",
      "41:\tlearn: 0.9810193\ttotal: 1.78s\tremaining: 2.46s\n",
      "42:\tlearn: 0.9798148\ttotal: 1.82s\tremaining: 2.42s\n",
      "43:\tlearn: 0.9788216\ttotal: 1.88s\tremaining: 2.39s\n",
      "44:\tlearn: 0.9770850\ttotal: 1.97s\tremaining: 2.41s\n",
      "45:\tlearn: 0.9757269\ttotal: 2.03s\tremaining: 2.38s\n",
      "46:\tlearn: 0.9748229\ttotal: 2.07s\tremaining: 2.33s\n",
      "47:\tlearn: 0.9739427\ttotal: 2.1s\tremaining: 2.28s\n",
      "48:\tlearn: 0.9724813\ttotal: 2.18s\tremaining: 2.27s\n",
      "49:\tlearn: 0.9717885\ttotal: 2.27s\tremaining: 2.27s\n",
      "50:\tlearn: 0.9708244\ttotal: 2.33s\tremaining: 2.23s\n",
      "51:\tlearn: 0.9699813\ttotal: 2.43s\tremaining: 2.25s\n",
      "52:\tlearn: 0.9687649\ttotal: 2.49s\tremaining: 2.21s\n",
      "53:\tlearn: 0.9675204\ttotal: 2.53s\tremaining: 2.15s\n",
      "54:\tlearn: 0.9664843\ttotal: 2.56s\tremaining: 2.1s\n",
      "55:\tlearn: 0.9655023\ttotal: 2.6s\tremaining: 2.04s\n",
      "56:\tlearn: 0.9643793\ttotal: 2.62s\tremaining: 1.98s\n",
      "57:\tlearn: 0.9630572\ttotal: 2.66s\tremaining: 1.93s\n",
      "58:\tlearn: 0.9622333\ttotal: 2.68s\tremaining: 1.86s\n",
      "59:\tlearn: 0.9609829\ttotal: 2.72s\tremaining: 1.81s\n",
      "60:\tlearn: 0.9601103\ttotal: 2.76s\tremaining: 1.76s\n",
      "61:\tlearn: 0.9595247\ttotal: 2.78s\tremaining: 1.71s\n",
      "62:\tlearn: 0.9591332\ttotal: 2.82s\tremaining: 1.66s\n",
      "63:\tlearn: 0.9580539\ttotal: 2.86s\tremaining: 1.61s\n",
      "64:\tlearn: 0.9571292\ttotal: 2.89s\tremaining: 1.56s\n",
      "65:\tlearn: 0.9564680\ttotal: 2.92s\tremaining: 1.5s\n",
      "66:\tlearn: 0.9554163\ttotal: 2.96s\tremaining: 1.46s\n",
      "67:\tlearn: 0.9544656\ttotal: 3s\tremaining: 1.41s\n",
      "68:\tlearn: 0.9535426\ttotal: 3.04s\tremaining: 1.37s\n",
      "69:\tlearn: 0.9529851\ttotal: 3.09s\tremaining: 1.32s\n",
      "70:\tlearn: 0.9519200\ttotal: 3.12s\tremaining: 1.27s\n",
      "71:\tlearn: 0.9507922\ttotal: 3.16s\tremaining: 1.23s\n",
      "72:\tlearn: 0.9500374\ttotal: 3.19s\tremaining: 1.18s\n",
      "73:\tlearn: 0.9497331\ttotal: 3.23s\tremaining: 1.14s\n",
      "74:\tlearn: 0.9485639\ttotal: 3.26s\tremaining: 1.08s\n",
      "75:\tlearn: 0.9479237\ttotal: 3.31s\tremaining: 1.04s\n",
      "76:\tlearn: 0.9470582\ttotal: 3.35s\tremaining: 999ms\n",
      "77:\tlearn: 0.9462273\ttotal: 3.44s\tremaining: 970ms\n",
      "78:\tlearn: 0.9456015\ttotal: 3.48s\tremaining: 925ms\n",
      "79:\tlearn: 0.9450196\ttotal: 3.56s\tremaining: 891ms\n",
      "80:\tlearn: 0.9444921\ttotal: 3.63s\tremaining: 853ms\n",
      "81:\tlearn: 0.9432907\ttotal: 3.68s\tremaining: 808ms\n",
      "82:\tlearn: 0.9427384\ttotal: 3.71s\tremaining: 761ms\n",
      "83:\tlearn: 0.9420025\ttotal: 3.76s\tremaining: 716ms\n",
      "84:\tlearn: 0.9410826\ttotal: 3.84s\tremaining: 677ms\n",
      "85:\tlearn: 0.9403749\ttotal: 3.89s\tremaining: 634ms\n",
      "86:\tlearn: 0.9396352\ttotal: 3.94s\tremaining: 589ms\n",
      "87:\tlearn: 0.9389245\ttotal: 3.99s\tremaining: 544ms\n",
      "88:\tlearn: 0.9375309\ttotal: 4.03s\tremaining: 498ms\n",
      "89:\tlearn: 0.9369498\ttotal: 4.08s\tremaining: 453ms\n",
      "90:\tlearn: 0.9359732\ttotal: 4.13s\tremaining: 408ms\n",
      "91:\tlearn: 0.9353713\ttotal: 4.15s\tremaining: 361ms\n",
      "92:\tlearn: 0.9345651\ttotal: 4.17s\tremaining: 314ms\n",
      "93:\tlearn: 0.9336961\ttotal: 4.19s\tremaining: 268ms\n",
      "94:\tlearn: 0.9332143\ttotal: 4.21s\tremaining: 221ms\n",
      "95:\tlearn: 0.9319456\ttotal: 4.23s\tremaining: 176ms\n",
      "96:\tlearn: 0.9311111\ttotal: 4.24s\tremaining: 131ms\n",
      "97:\tlearn: 0.9302246\ttotal: 4.26s\tremaining: 86.9ms\n",
      "98:\tlearn: 0.9287847\ttotal: 4.28s\tremaining: 43.2ms\n",
      "99:\tlearn: 0.9278831\ttotal: 4.3s\tremaining: 0us\n"
     ]
    },
    {
     "data": {
      "text/plain": [
       "<catboost.core.CatBoostRegressor at 0x11da966c0>"
      ]
     },
     "execution_count": 4,
     "metadata": {},
     "output_type": "execute_result"
    }
   ],
   "execution_count": 4
  },
  {
   "metadata": {
    "ExecuteTime": {
     "end_time": "2024-04-29T19:17:25.972238Z",
     "start_time": "2024-04-29T19:17:25.914548Z"
    }
   },
   "cell_type": "code",
   "source": [
    "y_pred_rus = CB_rus.predict(X_test_rus)\n",
    "y_pred_rus"
   ],
   "id": "b5a7c4df01855515",
   "outputs": [
    {
     "data": {
      "text/plain": [
       "array([1.91924184, 1.43704233, 0.93709543, ..., 1.38050512, 2.08145476,\n",
       "       1.531464  ])"
      ]
     },
     "execution_count": 5,
     "metadata": {},
     "output_type": "execute_result"
    }
   ],
   "execution_count": 5
  }
 ],
 "metadata": {
  "kernelspec": {
   "display_name": "Python 3",
   "language": "python",
   "name": "python3"
  },
  "language_info": {
   "codemirror_mode": {
    "name": "ipython",
    "version": 2
   },
   "file_extension": ".py",
   "mimetype": "text/x-python",
   "name": "python",
   "nbconvert_exporter": "python",
   "pygments_lexer": "ipython2",
   "version": "2.7.6"
  }
 },
 "nbformat": 4,
 "nbformat_minor": 5
}
